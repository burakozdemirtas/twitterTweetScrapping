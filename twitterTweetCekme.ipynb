{
 "cells": [
  {
   "cell_type": "code",
   "execution_count": 1,
   "metadata": {},
   "outputs": [],
   "source": [
    "from selenium import webdriver\n",
    "from selenium.webdriver.common.by import By\n",
    "import time"
   ]
  },
  {
   "cell_type": "code",
   "execution_count": 2,
   "metadata": {},
   "outputs": [
    {
     "name": "stderr",
     "output_type": "stream",
     "text": [
      "C:\\Users\\Burak\\AppData\\Local\\Temp\\ipykernel_15092\\2332074703.py:4: DeprecationWarning: executable_path has been deprecated, please pass in a Service object\n",
      "  browser= webdriver.Chrome(executable_path=r\"C:\\Program Files\\Google\\Chrome\\Application\\chromedriver.exe\")\n"
     ]
    },
    {
     "name": "stdout",
     "output_type": "stream",
     "text": [
      "-------------------------------------------------\n",
      "9adet tweet başarı ile çekildi. \n",
      " -------------------------------------------------\n",
      "-------------------------------------------------\n",
      "15adet tweet başarı ile çekildi. \n",
      " -------------------------------------------------\n",
      "Tweets.txt dosyasına başarı ile kaydedildi. \n"
     ]
    }
   ],
   "source": [
    "#en son atılan tweetleri aratıyoruz.\n",
    "veri=input(\"#Arama :\")\n",
    "\n",
    "browser= webdriver.Chrome(executable_path=r\"C:\\Program Files\\Google\\Chrome\\Application\\chromedriver.exe\")\n",
    "browser.get(\"https://twitter.com/search?q=\"+veri+\"&src=typed_query&f=live\")\n",
    "#browser.maximize_window() #browser'ı tam ekran yapıyoruz.\n",
    "time.sleep(2)\n",
    "\n",
    "sonuc=[]\n",
    "twit=browser.find_elements(By.XPATH,(\"//div[@data-testid='tweetText']\"))\n",
    "time.sleep(2)\n",
    "print(\"-------------------------------------------------\\n\" + str(len(twit)) + \"adet tweet başarı ile çekildi. \\n -------------------------------------------------\")\n",
    "for i in twit:\n",
    "    sonuc.append(i.text)\n",
    "\n",
    "\n",
    "sayac = 0\n",
    "son= browser.execute_script(\"return document.body.scrollHeight\")\n",
    "while True:\n",
    "    if sayac >3:\n",
    "        break\n",
    "    browser.execute_script(\"window.scrollTo(0,document.body.scrollHeight)\")\n",
    "    time.sleep(2)\n",
    "    yeni = browser.execute_script(\"return document.body.scrollHeight\")\n",
    "    if son == yeni:\n",
    "        break\n",
    "    son =yeni\n",
    "    sayac+=1\n",
    "    tweet=browser.find_elements(By.XPATH,(\"//div[@data-testid='tweetText']\"))\n",
    "    time.sleep(2)\n",
    "    print(\"-------------------------------------------------\\n\" + str(len(tweet)) + \"adet tweet başarı ile çekildi. \\n -------------------------------------------------\")\n",
    "    for i in tweet:\n",
    "        sonuc.append(i.text)\n",
    "        \n",
    "adet=1\n",
    "with open(\"Tweets.txt\",\"w\",encoding=\"UTF-8\") as file :\n",
    "    for a in sonuc:\n",
    "        file.write(f\"{adet} - {a}\\n\")\n",
    "        adet +=1\n",
    "print(\"Tweets.txt dosyasına başarı ile kaydedildi. \")\n",
    "\n"
   ]
  }
 ],
 "metadata": {
  "kernelspec": {
   "display_name": "Python 3.10.5 64-bit",
   "language": "python",
   "name": "python3"
  },
  "language_info": {
   "codemirror_mode": {
    "name": "ipython",
    "version": 3
   },
   "file_extension": ".py",
   "mimetype": "text/x-python",
   "name": "python",
   "nbconvert_exporter": "python",
   "pygments_lexer": "ipython3",
   "version": "3.10.5"
  },
  "orig_nbformat": 4,
  "vscode": {
   "interpreter": {
    "hash": "77166de1c351ea371dae0ccf672aa0a3558769c714b5389e36a0c264c40ed330"
   }
  }
 },
 "nbformat": 4,
 "nbformat_minor": 2
}
